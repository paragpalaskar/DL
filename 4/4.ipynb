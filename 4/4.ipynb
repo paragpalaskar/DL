{
  "nbformat": 4,
  "nbformat_minor": 0,
  "metadata": {
    "colab": {
      "provenance": []
    },
    "kernelspec": {
      "name": "python3",
      "display_name": "Python 3"
    },
    "language_info": {
      "name": "python"
    }
  },
  "cells": [
    {
      "cell_type": "code",
      "source": [
        "\n",
        "import numpy as np\n",
        "import pandas as pd\n",
        "import tensorflow as tf\n",
        "import matplotlib.pyplot as plt\n",
        "from sklearn.metrics import accuracy_score\n",
        "from tensorflow.keras.optimizers import Adam\n",
        "from sklearn.preprocessing import MinMaxScaler\n",
        "from tensorflow.keras import Model, Sequential\n",
        "from tensorflow.keras.layers import Dense, Dropout\n",
        "from sklearn.model_selection import train_test_split\n",
        "from tensorflow.keras.losses import MeanSquaredLogarithmicError"
      ],
      "metadata": {
        "id": "E9mtD6SSY2eb"
      },
      "execution_count": 6,
      "outputs": []
    },
    {
      "cell_type": "code",
      "source": [
        "\n",
        "# Download the dataset\n",
        "path = '''http://storage.googleapis.com/\n",
        "download.tensorflow.org/data/ecg.csv'''\n",
        "data = pd.read_csv(path, header=None)\n",
        "print(data.shape)\n",
        "data.head()"
      ],
      "metadata": {
        "id": "uxN9Y4dLY2g-"
      },
      "execution_count": null,
      "outputs": []
    },
    {
      "cell_type": "code",
      "source": [
        "\n",
        "# last column is the target\n",
        "# 0 = anomaly, 1 = normal\n",
        "TARGET = 140\n",
        "features = data.drop(TARGET, axis=1)\n",
        "target = data[TARGET]\n",
        "x_train, x_test, y_train, y_test = train_test_split(\n",
        " features, target, test_size=0.2,\n",
        " random_state = 0, stratify=target\n",
        ")"
      ],
      "metadata": {
        "id": "f9bgh9WNY2kZ"
      },
      "execution_count": null,
      "outputs": []
    },
    {
      "cell_type": "code",
      "source": [
        "x_test.shape\n",
        "x_train.shape"
      ],
      "metadata": {
        "id": "j373o6azZPfF"
      },
      "execution_count": null,
      "outputs": []
    },
    {
      "cell_type": "code",
      "source": [
        "target.value_counts()"
      ],
      "metadata": {
        "id": "244WVh7bZPl5"
      },
      "execution_count": null,
      "outputs": []
    },
    {
      "cell_type": "code",
      "source": [
        "train_index = y_train[y_train == 1].index\n",
        "train_data = x_train.loc[train_index]"
      ],
      "metadata": {
        "id": "C8X7xYLbYlXN"
      },
      "execution_count": null,
      "outputs": []
    },
    {
      "cell_type": "code",
      "source": [
        "\n",
        "min_max_scaler = MinMaxScaler()\n",
        "x_train_scaled = min_max_scaler.fit_transform(\n",
        " train_data.copy())\n",
        "x_test_scaled = min_max_scaler.transform(x_test.copy())\n"
      ],
      "metadata": {
        "id": "8SaZwhdVZzF4"
      },
      "execution_count": null,
      "outputs": []
    },
    {
      "cell_type": "code",
      "source": [
        "x_train.describe()\n"
      ],
      "metadata": {
        "id": "pGkX7uWlZzIz"
      },
      "execution_count": null,
      "outputs": []
    },
    {
      "cell_type": "code",
      "source": [
        "pd.DataFrame(x_train_scaled).describe()"
      ],
      "metadata": {
        "id": "QBrXurB1ZzL4"
      },
      "execution_count": null,
      "outputs": []
    },
    {
      "cell_type": "code",
      "source": [
        "class AutoEncoder(Model):\n",
        "\n",
        " def __init__(self, output_units, code_size=8):\n",
        " super().__init__()\n",
        " self.encoder = Sequential([\n",
        " Dense(64, activation='relu'),\n",
        " Dropout(0.1),\n",
        " Dense(32, activation='relu'),\n",
        " Dropout(0.1),\n",
        " Dense(16, activation='relu'),\n",
        " Dropout(0.1),\n",
        " Dense(code_size, activation='relu')\n",
        " ])\n",
        "\n",
        " self.decoder = Sequential([\n",
        " Dense(16, activation='relu'),\n",
        " Dropout(0.1),\n",
        " Dense(32, activation='relu'),\n",
        " Dropout(0.1),\n",
        " Dense(64, activation='relu'),\n",
        " Dropout(0.1),\n",
        " Dense(output_units, activation='sigmoid')\n",
        " ])\n",
        "\n",
        " def call(self, inputs):\n",
        " encoded = self.encoder(inputs)\n",
        " decoded = self.decoder(encoded)\n",
        " return decoded\n",
        "\n"
      ],
      "metadata": {
        "id": "HJT4HMNJZzOr"
      },
      "execution_count": null,
      "outputs": []
    },
    {
      "cell_type": "code",
      "source": [
        "model = AutoEncoder(output_units=x_train_scaled.shape[1])\n",
        "# configurations of model\n",
        "model.compile(loss='msle', metrics=['mse'], optimizer='adam')\n",
        "history = model.fit(\n",
        " x_train_scaled,\n",
        " x_train_scaled,\n",
        " epochs=20,\n",
        " batch_size=512,\n",
        " validation_data=(x_test_scaled, x_test_scaled)\n",
        ")\n"
      ],
      "metadata": {
        "id": "bMrKQYVzZzRd"
      },
      "execution_count": null,
      "outputs": []
    },
    {
      "cell_type": "code",
      "source": [
        "\n",
        "plt.plot(history.history['loss'])\n",
        "plt.plot(history.history['val_loss'])\n",
        "plt.xlabel('Epochs')\n",
        "plt.ylabel('MSLE Loss')\n",
        "plt.legend(['loss', 'val_loss'])\n",
        "plt.show()"
      ],
      "metadata": {
        "id": "GovQjl00ZzUe"
      },
      "execution_count": null,
      "outputs": []
    },
    {
      "cell_type": "code",
      "source": [],
      "metadata": {
        "id": "iaqjZtAYZzYD"
      },
      "execution_count": null,
      "outputs": []
    }
  ]
}